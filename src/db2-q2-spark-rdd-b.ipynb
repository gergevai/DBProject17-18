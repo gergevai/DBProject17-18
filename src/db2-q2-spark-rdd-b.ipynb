{
 "cells": [
  {
   "cell_type": "markdown",
   "metadata": {},
   "source": [
    "### [Get Started with PySpark and Jupyter Notebook in 3 Minutes](https://blog.sicara.com/get-started-pyspark-jupyter-guide-tutorial-ae2fe84f594f)"
   ]
  },
  {
   "cell_type": "markdown",
   "metadata": {},
   "source": [
    "### Importing Libraries\n",
    "  * #### Part 1: Essential Libraries to\n",
    "    * Find Spark Installation &nbsp;&nbsp;&nbsp;&nbsp;>>> **import** findspark\n",
    "    * Initiate a Spark Instance &nbsp;>>> **findspark.init()**"
   ]
  },
  {
   "cell_type": "code",
   "execution_count": 1,
   "metadata": {
    "collapsed": true
   },
   "outputs": [],
   "source": [
    "import findspark; findspark.init()"
   ]
  },
  {
   "cell_type": "markdown",
   "metadata": {},
   "source": [
    "  * #### Part 2: Importing Essential pyspark Modules"
   ]
  },
  {
   "cell_type": "code",
   "execution_count": 2,
   "metadata": {
    "collapsed": true
   },
   "outputs": [],
   "source": [
    "from pyspark import SparkContext\n",
    "from pyspark.sql.functions import *\n",
    "from pyspark.sql.types import StringType\n",
    "from pyspark import StorageLevel\n",
    "from pyspark import SQLContext\n",
    "import time"
   ]
  },
  {
   "cell_type": "markdown",
   "metadata": {},
   "source": [
    "### Loading Spark and SQL Context"
   ]
  },
  {
   "cell_type": "code",
   "execution_count": 3,
   "metadata": {
    "collapsed": true
   },
   "outputs": [],
   "source": [
    "sc = SparkContext(\"local[*]\", \"db2-q2-spark-rdd-b\")\n",
    "sqlContext = SQLContext(sc)"
   ]
  },
  {
   "cell_type": "markdown",
   "metadata": {},
   "source": [
    "### Create Dataset from csv file (RDD Approach)"
   ]
  },
  {
   "cell_type": "code",
   "execution_count": 4,
   "metadata": {
    "collapsed": true
   },
   "outputs": [],
   "source": [
    "lines = sc.textFile(\"db2_project_data.csv\")"
   ]
  },
  {
   "cell_type": "code",
   "execution_count": 5,
   "metadata": {
    "collapsed": true
   },
   "outputs": [],
   "source": [
    "def getColumns(row, indexes):\n",
    "    row = row.split(',')\n",
    "    tmp = [row[i] for i in indexes]\n",
    "    return tmp"
   ]
  },
  {
   "cell_type": "code",
   "execution_count": 6,
   "metadata": {},
   "outputs": [],
   "source": [
    "consumption = lines.map(lambda s: getColumns(s, [0,2]));\n",
    "header = consumption.first()\n",
    "consumption = consumption.filter(lambda line : line != header)"
   ]
  },
  {
   "cell_type": "code",
   "execution_count": 7,
   "metadata": {},
   "outputs": [
    {
     "data": {
      "text/plain": [
       "PythonRDD[3] at RDD at PythonRDD.scala:48"
      ]
     },
     "execution_count": 7,
     "metadata": {},
     "output_type": "execute_result"
    }
   ],
   "source": [
    "# Make it persistent on both MEMORY (if it \"fits\") and DISK \n",
    "# to spped-up computations at the cost of memory\n",
    "consumption.persist(StorageLevel.MEMORY_AND_DISK)"
   ]
  },
  {
   "cell_type": "markdown",
   "metadata": {},
   "source": [
    "### Execute a Query from Question (a)"
   ]
  },
  {
   "cell_type": "markdown",
   "metadata": {},
   "source": [
    "### &nbsp;&nbsp;&nbsp;&nbsp;&nbsp;&nbsp;&nbsp;&nbsp;&nbsp;&nbsp; a.iv: Average Distance (Kilometers) per Customer "
   ]
  },
  {
   "cell_type": "code",
   "execution_count": 10,
   "metadata": {},
   "outputs": [
    {
     "name": "stdout",
     "output_type": "stream",
     "text": [
      "Query Computation Time: 0.022536039352416992  seconds.\n",
      "Average Distance (Kilometers) per Customer [Without Hash Partitioning]:\n",
      "[('9759632-CALEND-304-305-Σάββατο-10', 665.4940102244079), ('8135848-CALEND-049-Σάββατο-06', 499.5832917739269), ('8119276-CALEND-040-Κυριακή-07', 573.5036786643687), ('9759643-CALEND-304-305-Σάββατο-10', 662.1925830229202), ('9759705-CALEND-304-305-Σάββατο-10', 673.5770425023304), ('9230565-CALEND-891-Κυριακή-06', 311.757060266112), ('9262267-CALEND-049-Καθημερινή-13', 510.126052710065), ('9257025-CALEND-040-Καθημερινή-11', 605.6769329510254), ('9311573-CALEND-703-Καθημερινή-09', 496.91912571390145), ('9741563-CALEND-304-305-Καθημερινή-11', 658.390396959772)]\n",
      "Cumulative Computation Time: 14.460395574569702  seconds.\n"
     ]
    }
   ],
   "source": [
    "st = time.time()\n",
    "tplRes = (0,0) # As of Python3, you can't pass a literal sequence to a function.\n",
    "result = consumption.mapValues(lambda v: (v, 1))\\\n",
    ".reduceByKey(lambda a,b: ((float(a[0])+float(b[0]), float(a[1])+float(b[1]))))\\\n",
    ".mapValues(lambda v: v[0]/v[1])\n",
    "fn = time.time() - st\n",
    "\n",
    "result.persist(StorageLevel.MEMORY_AND_DISK)\n",
    "print ('Query Computation Time:', fn, ' seconds.')\n",
    "print ('Average Distance (Kilometers) per Customer [Without Hash Partitioning]:')\n",
    "print (result.take(10))\n",
    "print ('Cumulative Computation Time:', time.time() - st, ' seconds.')"
   ]
  },
  {
   "cell_type": "markdown",
   "metadata": {},
   "source": [
    "### Stopping Spark Context... "
   ]
  },
  {
   "cell_type": "code",
   "execution_count": 12,
   "metadata": {
    "collapsed": true
   },
   "outputs": [],
   "source": [
    "sc.stop()"
   ]
  }
 ],
 "metadata": {
  "kernelspec": {
   "display_name": "Python [default]",
   "language": "python",
   "name": "python3"
  },
  "language_info": {
   "codemirror_mode": {
    "name": "ipython",
    "version": 3
   },
   "file_extension": ".py",
   "mimetype": "text/x-python",
   "name": "python",
   "nbconvert_exporter": "python",
   "pygments_lexer": "ipython3",
   "version": "3.5.4"
  }
 },
 "nbformat": 4,
 "nbformat_minor": 2
}
