{
 "cells": [
  {
   "cell_type": "markdown",
   "metadata": {},
   "source": [
    "### [Get Started with PySpark and Jupyter Notebook in 3 Minutes](https://blog.sicara.com/get-started-pyspark-jupyter-guide-tutorial-ae2fe84f594f)"
   ]
  },
  {
   "cell_type": "markdown",
   "metadata": {},
   "source": [
    "### Importing Libraries\n",
    "  * #### Part 1: Essential Libraries to\n",
    "    * Find Spark Installation &nbsp;&nbsp;&nbsp;&nbsp;>>> **import** findspark\n",
    "    * Initiate a Spark Instance &nbsp;>>> **findspark.init()**"
   ]
  },
  {
   "cell_type": "code",
   "execution_count": 5,
   "metadata": {
    "collapsed": true
   },
   "outputs": [],
   "source": [
    "import findspark; findspark.init()"
   ]
  },
  {
   "cell_type": "markdown",
   "metadata": {},
   "source": [
    "  * #### Part 2: Importing Essential pyspark Modules"
   ]
  },
  {
   "cell_type": "code",
   "execution_count": 6,
   "metadata": {
    "collapsed": true
   },
   "outputs": [],
   "source": [
    "from pyspark import SparkConf, SparkContext\n",
    "from pyspark.sql.functions import *\n",
    "from pyspark import StorageLevel\n",
    "import time"
   ]
  },
  {
   "cell_type": "markdown",
   "metadata": {},
   "source": [
    "### Loading Spark"
   ]
  },
  {
   "cell_type": "code",
   "execution_count": 7,
   "metadata": {},
   "outputs": [],
   "source": [
    "conf = (SparkConf()\\\n",
    ".setMaster(\"local[*]\")\\\n",
    ".setAppName(\"db2-q2-spark-rdd-c\")\\\n",
    ".set(\"spark.executor.memory\", \"3g\")\\\n",
    ".set(\"spark.driver.memory\", \"5g\"))\n",
    "\n",
    "sc = SparkContext(conf = conf)"
   ]
  },
  {
   "cell_type": "markdown",
   "metadata": {},
   "source": [
    "### Create Dataset from csv file (RDD Approach)"
   ]
  },
  {
   "cell_type": "code",
   "execution_count": 8,
   "metadata": {
    "collapsed": true
   },
   "outputs": [],
   "source": [
    "lines = sc.textFile(\"db2_project_data.csv\")"
   ]
  },
  {
   "cell_type": "code",
   "execution_count": 9,
   "metadata": {
    "collapsed": true
   },
   "outputs": [],
   "source": [
    "def getColumns(row, indexes):\n",
    "    row = row.split(',')\n",
    "    tmp = [row[i] for i in indexes]\n",
    "    return tmp"
   ]
  },
  {
   "cell_type": "code",
   "execution_count": 11,
   "metadata": {},
   "outputs": [],
   "source": [
    "consumption = lines.map(lambda s: getColumns(s, [0,2]));\n",
    "header = consumption.first()\n",
    "consumption = consumption.filter(lambda line : line != header)"
   ]
  },
  {
   "cell_type": "markdown",
   "metadata": {},
   "source": [
    "### Repartition Dataset RDD using Hash Partitioning"
   ]
  },
  {
   "cell_type": "code",
   "execution_count": 12,
   "metadata": {
    "collapsed": true
   },
   "outputs": [],
   "source": [
    "dataset = sc.parallelize(consumption.collect())"
   ]
  },
  {
   "cell_type": "code",
   "execution_count": 13,
   "metadata": {
    "scrolled": false
   },
   "outputs": [
    {
     "data": {
      "text/plain": [
       "ParallelCollectionRDD[5] at parallelize at PythonRDD.scala:489"
      ]
     },
     "execution_count": 13,
     "metadata": {},
     "output_type": "execute_result"
    }
   ],
   "source": [
    "dataset"
   ]
  },
  {
   "cell_type": "code",
   "execution_count": null,
   "metadata": {
    "scrolled": true
   },
   "outputs": [],
   "source": [
    "# See the first 5 rows for a glimpse of the RDD structure\n",
    "dataset.take(5)"
   ]
  },
  {
   "cell_type": "code",
   "execution_count": 14,
   "metadata": {
    "collapsed": true
   },
   "outputs": [],
   "source": [
    "slices = 50\n",
    "wp = dataset.partitionBy(slices) # Hash Partitioning By Default"
   ]
  },
  {
   "cell_type": "markdown",
   "metadata": {},
   "source": [
    "  * View Hash Buckets "
   ]
  },
  {
   "cell_type": "code",
   "execution_count": null,
   "metadata": {
    "collapsed": true,
    "scrolled": true
   },
   "outputs": [],
   "source": [
    "wp.map(lambda t: t[0]).glom().collect()"
   ]
  },
  {
   "cell_type": "markdown",
   "metadata": {},
   "source": [
    "  * Make Hashed Partitioned RDD Persistent to Speed-Up Computations"
   ]
  },
  {
   "cell_type": "code",
   "execution_count": 15,
   "metadata": {},
   "outputs": [
    {
     "data": {
      "text/plain": [
       "MapPartitionsRDD[9] at mapPartitions at PythonRDD.scala:436"
      ]
     },
     "execution_count": 15,
     "metadata": {},
     "output_type": "execute_result"
    }
   ],
   "source": [
    "wp.persist(StorageLevel.MEMORY_AND_DISK)"
   ]
  },
  {
   "cell_type": "markdown",
   "metadata": {},
   "source": [
    "### Execute a Query from Question (a)"
   ]
  },
  {
   "cell_type": "markdown",
   "metadata": {},
   "source": [
    "### &nbsp;&nbsp;&nbsp;&nbsp;&nbsp;&nbsp;&nbsp;&nbsp;&nbsp;&nbsp; a.iv: Average Distance (Kilometers) per Customer "
   ]
  },
  {
   "cell_type": "code",
   "execution_count": 30,
   "metadata": {},
   "outputs": [
    {
     "name": "stdout",
     "output_type": "stream",
     "text": [
      "Query Computation Time: 0.001003265380859375  seconds.\n",
      "Average Distance (Kilometers) per Customer [Using Hash Partitioning]:\n",
      "[('9257094-CALEND-040-Καθημερινή-11', 592.7304328574816), ('9257206-CALEND-040-Καθημερινή-11', 574.3728026539111), ('9056408-CALEND-040-Σάββατο-07', 565.5172956532501), ('8135866-CALEND-049-Σάββατο-06', 519.8642560001414), ('9257033-CALEND-040-Καθημερινή-11', 592.73043287189), ('8135785-CALEND-049-Σάββατο-06', 510.27910324150736), ('9759640-CALEND-304-305-Σάββατο-10', 658.918602015489), ('9257061-CALEND-040-Καθημερινή-11', 592.7304328576909), ('9586372-CALEND-217-229-Σάββατο-14', 578.3699267903174), ('9759639-CALEND-304-305-Σάββατο-10', 658.0476338313363)]\n",
      "Cumulative Computation Time: 2.8515617847442627  seconds.\n"
     ]
    }
   ],
   "source": [
    "st = time.time()\n",
    "tplRes = (0,0) # As of Python3, you can't pass a literal sequence to a function.\n",
    "result = wp.mapValues(lambda v: (v, 1))\\\n",
    ".reduceByKey(lambda a,b: ((float(a[0])+float(b[0]), float(a[1])+float(b[1]))))\\\n",
    ".mapValues(lambda v: v[0]/v[1])\n",
    "fn = time.time() - st\n",
    "\n",
    "result.persist(StorageLevel.MEMORY_AND_DISK)\n",
    "print ('Query Computation Time:', fn, ' seconds.')\n",
    "print ('Average Distance (Kilometers) per Customer [Using Hash Partitioning]:')\n",
    "print (result.take(10))\n",
    "print ('Cumulative Computation Time:', time.time() - st, ' seconds.')"
   ]
  },
  {
   "cell_type": "markdown",
   "metadata": {},
   "source": [
    "### Stopping Spark Context... "
   ]
  },
  {
   "cell_type": "code",
   "execution_count": 31,
   "metadata": {
    "collapsed": true
   },
   "outputs": [],
   "source": [
    "sc.stop()"
   ]
  }
 ],
 "metadata": {
  "kernelspec": {
   "display_name": "Python [default]",
   "language": "python",
   "name": "python3"
  },
  "language_info": {
   "codemirror_mode": {
    "name": "ipython",
    "version": 3
   },
   "file_extension": ".py",
   "mimetype": "text/x-python",
   "name": "python",
   "nbconvert_exporter": "python",
   "pygments_lexer": "ipython3",
   "version": "3.5.4"
  }
 },
 "nbformat": 4,
 "nbformat_minor": 2
}
