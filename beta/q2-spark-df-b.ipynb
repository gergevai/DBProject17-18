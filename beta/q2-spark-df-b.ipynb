{
 "cells": [
  {
   "cell_type": "markdown",
   "metadata": {},
   "source": [
    "### [Get Started with PySpark and Jupyter Notebook in 3 Minutes](https://blog.sicara.com/get-started-pyspark-jupyter-guide-tutorial-ae2fe84f594f)"
   ]
  },
  {
   "cell_type": "markdown",
   "metadata": {},
   "source": [
    "### Importing Libraries\n",
    "  * #### Part 1: Essential Libraries to\n",
    "    * Find Spark Installation &nbsp;&nbsp;&nbsp;&nbsp;>>> **import** findspark\n",
    "    * Initiate a Spark Instance &nbsp;>>> **findspark.init()**"
   ]
  },
  {
   "cell_type": "code",
   "execution_count": 2,
   "metadata": {
    "collapsed": true
   },
   "outputs": [],
   "source": [
    "import findspark; findspark.init()"
   ]
  },
  {
   "cell_type": "markdown",
   "metadata": {},
   "source": [
    "  * #### Part 2: Importing Essential pyspark Modules"
   ]
  },
  {
   "cell_type": "code",
   "execution_count": 3,
   "metadata": {
    "collapsed": true
   },
   "outputs": [],
   "source": [
    "from pyspark import SparkContext\n",
    "from pyspark.sql.functions import *\n",
    "from pyspark.sql.types import StringType\n",
    "from pyspark import SQLContext\n",
    "import time"
   ]
  },
  {
   "cell_type": "markdown",
   "metadata": {},
   "source": [
    "### Loading Spark and SQL Context"
   ]
  },
  {
   "cell_type": "code",
   "execution_count": 4,
   "metadata": {
    "collapsed": true
   },
   "outputs": [],
   "source": [
    "sc = SparkContext(\"local[*]\", \"db2-project-data-statistics\")\n",
    "sqlContext = SQLContext(sc)"
   ]
  },
  {
   "cell_type": "markdown",
   "metadata": {},
   "source": [
    "### Create Dataset from csv file"
   ]
  },
  {
   "cell_type": "markdown",
   "metadata": {},
   "source": [
    "Approach #1 - Using SQLContext\n",
    "  * log_records --> our Dataset derived directly from the csv file"
   ]
  },
  {
   "cell_type": "code",
   "execution_count": 4,
   "metadata": {
    "collapsed": true
   },
   "outputs": [],
   "source": [
    "log_records = sqlContext.read.load(\"db2_project_data.csv\", format='com.databricks.spark.csv', header='true', inferSchema='true')\n",
    "log_records.persist() # Make it persistent to both MEMORY (if it \"fits\") and DISK to speed up computations"
   ]
  },
  {
   "cell_type": "markdown",
   "metadata": {},
   "source": [
    "### Execute a Query from Question (a)"
   ]
  },
  {
   "cell_type": "markdown",
   "metadata": {},
   "source": [
    "### &nbsp;&nbsp;&nbsp;&nbsp;&nbsp;&nbsp;&nbsp;&nbsp;&nbsp;&nbsp; a.iv: Average Distance (Kilometers) per Customer "
   ]
  },
  {
   "cell_type": "code",
   "execution_count": 7,
   "metadata": {
    "scrolled": true
   },
   "outputs": [
    {
     "name": "stdout",
     "output_type": "stream",
     "text": [
      "+---------------------------------+-----------------+\n",
      "|ID                               |avg_kilometers   |\n",
      "+---------------------------------+-----------------+\n",
      "|7995332-CALEND-304-305-Κυριακή-07|695.4878773403577|\n",
      "|8119295-CALEND-040-Κυριακή-07    |572.3206734635264|\n",
      "|9056439-CALEND-040-Σάββατο-07    |564.737385589424 |\n",
      "+---------------------------------+-----------------+\n",
      "only showing top 3 rows\n",
      "\n",
      "The number of distinct cars is:  None\n",
      "Operation took: 2.6480391025543213  seconds to complete.\n"
     ]
    }
   ],
   "source": [
    "st = time.time()\n",
    "num = log_records.groupby(log_records['ID']).agg(avg(log_records['kilometers']).alias('avg_kilometers'))\n",
    "print ('The number of distinct cars is: ', num.show(3, False))\n",
    "print ('Operation took:', time.time() - st ,' seconds to complete.')"
   ]
  },
  {
   "cell_type": "markdown",
   "metadata": {},
   "source": [
    "### Stopping Spark Context... "
   ]
  },
  {
   "cell_type": "code",
   "execution_count": 8,
   "metadata": {
    "collapsed": true
   },
   "outputs": [],
   "source": [
    "sc.stop()"
   ]
  }
 ],
 "metadata": {
  "kernelspec": {
   "display_name": "Python [default]",
   "language": "python",
   "name": "python3"
  },
  "language_info": {
   "codemirror_mode": {
    "name": "ipython",
    "version": 3
   },
   "file_extension": ".py",
   "mimetype": "text/x-python",
   "name": "python",
   "nbconvert_exporter": "python",
   "pygments_lexer": "ipython3",
   "version": "3.5.4"
  }
 },
 "nbformat": 4,
 "nbformat_minor": 2
}
